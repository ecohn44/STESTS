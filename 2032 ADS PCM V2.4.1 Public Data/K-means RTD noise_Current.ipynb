{
 "cells": [
  {
   "cell_type": "code",
   "execution_count": 1,
   "id": "c2620856",
   "metadata": {},
   "outputs": [],
   "source": [
    "import pandas as pd\n",
    "import numpy as np\n",
    "from datetime import datetime\n",
    "import os\n",
    "import re\n",
    "from sklearn.cluster import KMeans\n",
    "from sklearn.metrics import pairwise_distances_argmin_min\n",
    "import matplotlib.pyplot as plt\n"
   ]
  },
  {
   "cell_type": "markdown",
   "id": "54797271",
   "metadata": {},
   "source": [
    "### Clear day-ahead load"
   ]
  },
  {
   "cell_type": "code",
   "execution_count": 2,
   "id": "a51dedf1",
   "metadata": {},
   "outputs": [],
   "source": [
    "# Specify the directory you want to use\n",
    "directory = './DAM/Load'\n",
    "\n",
    "dataframes = []  # list to store dataframes\n",
    "for filename in os.listdir(directory):\n",
    "    if filename.endswith(\".csv\"):\n",
    "        df = pd.read_csv(os.path.join(directory, filename))\n",
    "        dataframes.append(df)\n",
    "combined_df = pd.concat(dataframes, ignore_index=True)"
   ]
  },
  {
   "cell_type": "code",
   "execution_count": 3,
   "id": "ebac63ac",
   "metadata": {},
   "outputs": [],
   "source": [
    "values = ['CA ISO-TAC', 'MWD-TAC', 'PGE-TAC','SCE-TAC','SDGE-TAC','VEA-TAC']\n",
    "df_selected = combined_df[combined_df['TAC_AREA_NAME'].isin(values)]\n",
    "df_sorted = df_selected.sort_values(by=['OPR_DT', 'OPR_HR',]).reset_index(drop=True)"
   ]
  },
  {
   "cell_type": "code",
   "execution_count": 4,
   "id": "b824c67c",
   "metadata": {},
   "outputs": [],
   "source": [
    "CAISO = df_sorted[df_sorted['TAC_AREA_NAME']=='CA ISO-TAC'][['INTERVALSTARTTIME_GMT','MW']].iloc[24:8784].reset_index(drop=True)\n",
    "Zone1 = df_sorted[df_sorted['TAC_AREA_NAME']=='PGE-TAC'][['INTERVALSTARTTIME_GMT','MW']].iloc[24:8784].reset_index(drop=True)\n",
    "Zone2_values = ['MWD-TAC','SCE-TAC','VEA-TAC']\n",
    "Zone2_sep = df_sorted[df_sorted['TAC_AREA_NAME'].isin(Zone2_values)]\n",
    "Zone2 = Zone2_sep.groupby(['INTERVALSTARTTIME_GMT'])['MW'].sum().iloc[24:8784].reset_index()\n",
    "Zone3 = df_sorted[df_sorted['TAC_AREA_NAME']=='SDGE-TAC'][['INTERVALSTARTTIME_GMT','MW']].iloc[24:8784].reset_index(drop=True)"
   ]
  },
  {
   "cell_type": "code",
   "execution_count": 5,
   "id": "5a902665",
   "metadata": {},
   "outputs": [],
   "source": [
    "train_pre = pd.concat([CAISO['INTERVALSTARTTIME_GMT'], CAISO['MW'], Zone1['MW'], Zone2['MW'], Zone3['MW']], axis=1)\n",
    "train_pre.columns = ['INTERVALSTARTTIME_GMT', 'CAISO', 'Zone1', 'Zone2', 'Zone3']\n",
    "train_pre['CAISO'] = train_pre[['Zone1', 'Zone2', 'Zone3']].sum(axis=1)\n",
    "train_pre['INTERVALSTARTTIME_GMT'] = pd.to_datetime(train_pre['INTERVALSTARTTIME_GMT'])\n",
    "train_pre.set_index('INTERVALSTARTTIME_GMT', inplace=True)"
   ]
  },
  {
   "cell_type": "code",
   "execution_count": 6,
   "id": "22886f50",
   "metadata": {},
   "outputs": [],
   "source": [
    "DAMLoad = train_pre.resample('5T').ffill()"
   ]
  },
  {
   "cell_type": "code",
   "execution_count": 7,
   "id": "7e0a9fd5",
   "metadata": {
    "scrolled": true
   },
   "outputs": [
    {
     "data": {
      "text/plain": [
       "51317.22"
      ]
     },
     "execution_count": 7,
     "metadata": {},
     "output_type": "execute_result"
    }
   ],
   "source": [
    "train_pre['CAISO'].max()"
   ]
  },
  {
   "cell_type": "code",
   "execution_count": 8,
   "id": "61b2d81e",
   "metadata": {},
   "outputs": [
    {
     "data": {
      "text/html": [
       "<div>\n",
       "<style scoped>\n",
       "    .dataframe tbody tr th:only-of-type {\n",
       "        vertical-align: middle;\n",
       "    }\n",
       "\n",
       "    .dataframe tbody tr th {\n",
       "        vertical-align: top;\n",
       "    }\n",
       "\n",
       "    .dataframe thead th {\n",
       "        text-align: right;\n",
       "    }\n",
       "</style>\n",
       "<table border=\"1\" class=\"dataframe\">\n",
       "  <thead>\n",
       "    <tr style=\"text-align: right;\">\n",
       "      <th></th>\n",
       "      <th>CAISO</th>\n",
       "      <th>Zone1</th>\n",
       "      <th>Zone2</th>\n",
       "      <th>Zone3</th>\n",
       "    </tr>\n",
       "    <tr>\n",
       "      <th>INTERVALSTARTTIME_GMT</th>\n",
       "      <th></th>\n",
       "      <th></th>\n",
       "      <th></th>\n",
       "      <th></th>\n",
       "    </tr>\n",
       "  </thead>\n",
       "  <tbody>\n",
       "    <tr>\n",
       "      <th>2022-01-01 08:00:00+00:00</th>\n",
       "      <td>22630.73</td>\n",
       "      <td>10247.46</td>\n",
       "      <td>10307.27</td>\n",
       "      <td>2076.0</td>\n",
       "    </tr>\n",
       "    <tr>\n",
       "      <th>2022-01-01 08:05:00+00:00</th>\n",
       "      <td>22630.73</td>\n",
       "      <td>10247.46</td>\n",
       "      <td>10307.27</td>\n",
       "      <td>2076.0</td>\n",
       "    </tr>\n",
       "    <tr>\n",
       "      <th>2022-01-01 08:10:00+00:00</th>\n",
       "      <td>22630.73</td>\n",
       "      <td>10247.46</td>\n",
       "      <td>10307.27</td>\n",
       "      <td>2076.0</td>\n",
       "    </tr>\n",
       "    <tr>\n",
       "      <th>2022-01-01 08:15:00+00:00</th>\n",
       "      <td>22630.73</td>\n",
       "      <td>10247.46</td>\n",
       "      <td>10307.27</td>\n",
       "      <td>2076.0</td>\n",
       "    </tr>\n",
       "    <tr>\n",
       "      <th>2022-01-01 08:20:00+00:00</th>\n",
       "      <td>22630.73</td>\n",
       "      <td>10247.46</td>\n",
       "      <td>10307.27</td>\n",
       "      <td>2076.0</td>\n",
       "    </tr>\n",
       "    <tr>\n",
       "      <th>...</th>\n",
       "      <td>...</td>\n",
       "      <td>...</td>\n",
       "      <td>...</td>\n",
       "      <td>...</td>\n",
       "    </tr>\n",
       "    <tr>\n",
       "      <th>2023-01-01 06:40:00+00:00</th>\n",
       "      <td>23038.80</td>\n",
       "      <td>10464.78</td>\n",
       "      <td>10262.02</td>\n",
       "      <td>2312.0</td>\n",
       "    </tr>\n",
       "    <tr>\n",
       "      <th>2023-01-01 06:45:00+00:00</th>\n",
       "      <td>23038.80</td>\n",
       "      <td>10464.78</td>\n",
       "      <td>10262.02</td>\n",
       "      <td>2312.0</td>\n",
       "    </tr>\n",
       "    <tr>\n",
       "      <th>2023-01-01 06:50:00+00:00</th>\n",
       "      <td>23038.80</td>\n",
       "      <td>10464.78</td>\n",
       "      <td>10262.02</td>\n",
       "      <td>2312.0</td>\n",
       "    </tr>\n",
       "    <tr>\n",
       "      <th>2023-01-01 06:55:00+00:00</th>\n",
       "      <td>23038.80</td>\n",
       "      <td>10464.78</td>\n",
       "      <td>10262.02</td>\n",
       "      <td>2312.0</td>\n",
       "    </tr>\n",
       "    <tr>\n",
       "      <th>2023-01-01 07:00:00+00:00</th>\n",
       "      <td>22090.16</td>\n",
       "      <td>9988.81</td>\n",
       "      <td>9902.35</td>\n",
       "      <td>2199.0</td>\n",
       "    </tr>\n",
       "  </tbody>\n",
       "</table>\n",
       "<p>105109 rows × 4 columns</p>\n",
       "</div>"
      ],
      "text/plain": [
       "                              CAISO     Zone1     Zone2   Zone3\n",
       "INTERVALSTARTTIME_GMT                                          \n",
       "2022-01-01 08:00:00+00:00  22630.73  10247.46  10307.27  2076.0\n",
       "2022-01-01 08:05:00+00:00  22630.73  10247.46  10307.27  2076.0\n",
       "2022-01-01 08:10:00+00:00  22630.73  10247.46  10307.27  2076.0\n",
       "2022-01-01 08:15:00+00:00  22630.73  10247.46  10307.27  2076.0\n",
       "2022-01-01 08:20:00+00:00  22630.73  10247.46  10307.27  2076.0\n",
       "...                             ...       ...       ...     ...\n",
       "2023-01-01 06:40:00+00:00  23038.80  10464.78  10262.02  2312.0\n",
       "2023-01-01 06:45:00+00:00  23038.80  10464.78  10262.02  2312.0\n",
       "2023-01-01 06:50:00+00:00  23038.80  10464.78  10262.02  2312.0\n",
       "2023-01-01 06:55:00+00:00  23038.80  10464.78  10262.02  2312.0\n",
       "2023-01-01 07:00:00+00:00  22090.16   9988.81   9902.35  2199.0\n",
       "\n",
       "[105109 rows x 4 columns]"
      ]
     },
     "execution_count": 8,
     "metadata": {},
     "output_type": "execute_result"
    }
   ],
   "source": [
    "DAMLoad"
   ]
  },
  {
   "cell_type": "markdown",
   "id": "18d40735",
   "metadata": {},
   "source": [
    "### K-Means training"
   ]
  },
  {
   "cell_type": "code",
   "execution_count": 9,
   "id": "2ac9f899",
   "metadata": {
    "scrolled": true
   },
   "outputs": [
    {
     "name": "stderr",
     "output_type": "stream",
     "text": [
      "/Users/ningkunzheng/opt/anaconda3/envs/STESTS/lib/python3.11/site-packages/sklearn/cluster/_kmeans.py:870: FutureWarning: The default value of `n_init` will change from 10 to 'auto' in 1.4. Set the value of `n_init` explicitly to suppress the warning\n",
      "  warnings.warn(\n"
     ]
    }
   ],
   "source": [
    "reshaped_data = train_pre[['CAISO', 'Zone1', 'Zone2', 'Zone3']].values.reshape(-1, 24*4)/max(train_pre['CAISO'])  # reshapes data to have 365 data points each of 24*4=96 features\n",
    "\n",
    "kmeans = KMeans(n_clusters= 8, random_state=0).fit(reshaped_data)\n",
    "\n",
    "labels = kmeans.labels_  # the label of the cluster each data point belongs to"
   ]
  },
  {
   "cell_type": "code",
   "execution_count": 10,
   "id": "14e8734b",
   "metadata": {
    "scrolled": true
   },
   "outputs": [
    {
     "data": {
      "image/png": "[encoded data removed]",
      "text/plain": [
       "<Figure size 640x480 with 1 Axes>"
      ]
     },
     "metadata": {},
     "output_type": "display_data"
    }
   ],
   "source": [
    "# Generate some data\n",
    "x1 = np.linspace(0, 365, 365)\n",
    "y1 = labels\n",
    "\n",
    "# Create a figure and axis\n",
    "fig, ax = plt.subplots()\n",
    "\n",
    "# Plot the data\n",
    "ax.plot(x1, y1)\n",
    "\n",
    "# Show the plot\n",
    "plt.show()"
   ]
  },
  {
   "cell_type": "markdown",
   "id": "8c61d335",
   "metadata": {},
   "source": [
    "### Clear real-time load"
   ]
  },
  {
   "cell_type": "code",
   "execution_count": 11,
   "id": "93f7b893",
   "metadata": {},
   "outputs": [],
   "source": [
    "# Specify the directory you want to use\n",
    "directory = './RTD/Load'\n",
    "\n",
    "dataframes = []  # list to store dataframes\n",
    "for filename in os.listdir(directory):\n",
    "    if filename.endswith(\".csv\"):\n",
    "        df = pd.read_csv(os.path.join(directory, filename))\n",
    "        dataframes.append(df)\n",
    "combined_df = pd.concat(dataframes, ignore_index=True)"
   ]
  },
  {
   "cell_type": "code",
   "execution_count": 12,
   "id": "de9d76b6",
   "metadata": {},
   "outputs": [],
   "source": [
    "combined_df = combined_df.sort_values(by=['INTERVALSTARTTIME_GMT', 'TAC_AREA_NAME']).reset_index(drop=True)"
   ]
  },
  {
   "cell_type": "code",
   "execution_count": 13,
   "id": "50db195f",
   "metadata": {},
   "outputs": [],
   "source": [
    "values = ['CA ISO-TAC', 'MWD-TAC', 'PGE-TAC','SCE-TAC','SDGE-TAC','VEA-TAC']\n",
    "df_selected = combined_df[combined_df['TAC_AREA_NAME'].isin(values)]\n",
    "df_selected = df_selected[df_selected['XML_DATA_ITEM']=='SYS_FCST_5MIN_MW'].reset_index(drop=True)[['INTERVALSTARTTIME_GMT', 'TAC_AREA_NAME', 'MW']]"
   ]
  },
  {
   "cell_type": "code",
   "execution_count": 14,
   "id": "8a00a88e",
   "metadata": {
    "scrolled": true
   },
   "outputs": [],
   "source": [
    "df_selected['INTERVALSTARTTIME_GMT'] = pd.to_datetime(df_selected['INTERVALSTARTTIME_GMT'])\n",
    "df_pivot = df_selected.pivot(index='INTERVALSTARTTIME_GMT', columns='TAC_AREA_NAME', values='MW')\n",
    "df_resampled = df_pivot.resample('5T').asfreq()\n",
    "df_interpolated = df_resampled.interpolate(method='linear')"
   ]
  },
  {
   "cell_type": "code",
   "execution_count": 15,
   "id": "2d4ef161",
   "metadata": {},
   "outputs": [],
   "source": [
    "CAISO = df_interpolated['CA ISO-TAC'][288:105397]\n",
    "Zone1 = df_interpolated['PGE-TAC'][288:105397]\n",
    "Zone2 = (df_interpolated['MWD-TAC']+df_interpolated['SCE-TAC']+df_interpolated['VEA-TAC'])[288:105397]\n",
    "Zone3 = df_interpolated['SDGE-TAC'][288:105397]\n",
    "RTDLoad = pd.concat([CAISO, Zone1, Zone2, Zone3], axis=1)\n",
    "RTDLoad.columns = ['CAISO', 'Zone1', 'Zone2', 'Zone3']\n",
    "RTDLoad['CAISO'] = RTDLoad[['Zone1', 'Zone2', 'Zone3']].sum(axis=1)\n"
   ]
  },
  {
   "cell_type": "markdown",
   "id": "59d0ac94",
   "metadata": {},
   "source": [
    "### RTD load noise"
   ]
  },
  {
   "cell_type": "code",
   "execution_count": 16,
   "id": "4e2d9af0",
   "metadata": {},
   "outputs": [
    {
     "data": {
      "text/html": [
       "<div>\n",
       "<style scoped>\n",
       "    .dataframe tbody tr th:only-of-type {\n",
       "        vertical-align: middle;\n",
       "    }\n",
       "\n",
       "    .dataframe tbody tr th {\n",
       "        vertical-align: top;\n",
       "    }\n",
       "\n",
       "    .dataframe thead th {\n",
       "        text-align: right;\n",
       "    }\n",
       "</style>\n",
       "<table border=\"1\" class=\"dataframe\">\n",
       "  <thead>\n",
       "    <tr style=\"text-align: right;\">\n",
       "      <th></th>\n",
       "      <th>CAISO</th>\n",
       "      <th>Zone1</th>\n",
       "      <th>Zone2</th>\n",
       "      <th>Zone3</th>\n",
       "    </tr>\n",
       "    <tr>\n",
       "      <th>INTERVALSTARTTIME_GMT</th>\n",
       "      <th></th>\n",
       "      <th></th>\n",
       "      <th></th>\n",
       "      <th></th>\n",
       "    </tr>\n",
       "  </thead>\n",
       "  <tbody>\n",
       "    <tr>\n",
       "      <th>2022-01-01 08:00:00+00:00</th>\n",
       "      <td>0.031935</td>\n",
       "      <td>0.014809</td>\n",
       "      <td>0.017319</td>\n",
       "      <td>-0.000194</td>\n",
       "    </tr>\n",
       "    <tr>\n",
       "      <th>2022-01-01 08:05:00+00:00</th>\n",
       "      <td>0.033319</td>\n",
       "      <td>0.015399</td>\n",
       "      <td>0.018057</td>\n",
       "      <td>-0.000137</td>\n",
       "    </tr>\n",
       "    <tr>\n",
       "      <th>2022-01-01 08:10:00+00:00</th>\n",
       "      <td>0.034752</td>\n",
       "      <td>0.016062</td>\n",
       "      <td>0.018733</td>\n",
       "      <td>-0.000043</td>\n",
       "    </tr>\n",
       "    <tr>\n",
       "      <th>2022-01-01 08:15:00+00:00</th>\n",
       "      <td>0.036272</td>\n",
       "      <td>0.016793</td>\n",
       "      <td>0.019416</td>\n",
       "      <td>0.000063</td>\n",
       "    </tr>\n",
       "    <tr>\n",
       "      <th>2022-01-01 08:20:00+00:00</th>\n",
       "      <td>0.037344</td>\n",
       "      <td>0.017179</td>\n",
       "      <td>0.020243</td>\n",
       "      <td>-0.000078</td>\n",
       "    </tr>\n",
       "    <tr>\n",
       "      <th>...</th>\n",
       "      <td>...</td>\n",
       "      <td>...</td>\n",
       "      <td>...</td>\n",
       "      <td>...</td>\n",
       "    </tr>\n",
       "    <tr>\n",
       "      <th>2023-01-01 06:40:00+00:00</th>\n",
       "      <td>0.040708</td>\n",
       "      <td>0.026899</td>\n",
       "      <td>0.010435</td>\n",
       "      <td>0.003375</td>\n",
       "    </tr>\n",
       "    <tr>\n",
       "      <th>2023-01-01 06:45:00+00:00</th>\n",
       "      <td>0.043866</td>\n",
       "      <td>0.028112</td>\n",
       "      <td>0.012104</td>\n",
       "      <td>0.003650</td>\n",
       "    </tr>\n",
       "    <tr>\n",
       "      <th>2023-01-01 06:50:00+00:00</th>\n",
       "      <td>0.045313</td>\n",
       "      <td>0.028746</td>\n",
       "      <td>0.012731</td>\n",
       "      <td>0.003836</td>\n",
       "    </tr>\n",
       "    <tr>\n",
       "      <th>2023-01-01 06:55:00+00:00</th>\n",
       "      <td>0.046821</td>\n",
       "      <td>0.029519</td>\n",
       "      <td>0.013296</td>\n",
       "      <td>0.004007</td>\n",
       "    </tr>\n",
       "    <tr>\n",
       "      <th>2023-01-01 07:00:00+00:00</th>\n",
       "      <td>0.030584</td>\n",
       "      <td>0.020681</td>\n",
       "      <td>0.007959</td>\n",
       "      <td>0.001944</td>\n",
       "    </tr>\n",
       "  </tbody>\n",
       "</table>\n",
       "<p>105109 rows × 4 columns</p>\n",
       "</div>"
      ],
      "text/plain": [
       "                              CAISO     Zone1     Zone2     Zone3\n",
       "INTERVALSTARTTIME_GMT                                            \n",
       "2022-01-01 08:00:00+00:00  0.031935  0.014809  0.017319 -0.000194\n",
       "2022-01-01 08:05:00+00:00  0.033319  0.015399  0.018057 -0.000137\n",
       "2022-01-01 08:10:00+00:00  0.034752  0.016062  0.018733 -0.000043\n",
       "2022-01-01 08:15:00+00:00  0.036272  0.016793  0.019416  0.000063\n",
       "2022-01-01 08:20:00+00:00  0.037344  0.017179  0.020243 -0.000078\n",
       "...                             ...       ...       ...       ...\n",
       "2023-01-01 06:40:00+00:00  0.040708  0.026899  0.010435  0.003375\n",
       "2023-01-01 06:45:00+00:00  0.043866  0.028112  0.012104  0.003650\n",
       "2023-01-01 06:50:00+00:00  0.045313  0.028746  0.012731  0.003836\n",
       "2023-01-01 06:55:00+00:00  0.046821  0.029519  0.013296  0.004007\n",
       "2023-01-01 07:00:00+00:00  0.030584  0.020681  0.007959  0.001944\n",
       "\n",
       "[105109 rows x 4 columns]"
      ]
     },
     "execution_count": 16,
     "metadata": {},
     "output_type": "execute_result"
    }
   ],
   "source": [
    "RTDLoadNoise = (DAMLoad - RTDLoad)/max(DAMLoad['CAISO'])\n",
    "RTDLoadNoise"
   ]
  },
  {
   "cell_type": "code",
   "execution_count": 23,
   "id": "86d07984",
   "metadata": {},
   "outputs": [
    {
     "data": {
      "text/plain": [
       "-0.027725001471241045"
      ]
     },
     "execution_count": 23,
     "metadata": {},
     "output_type": "execute_result"
    }
   ],
   "source": [
    "RTDLoadNoise['CAISO'].min()"
   ]
  },
  {
   "cell_type": "code",
   "execution_count": 18,
   "id": "204ea62a",
   "metadata": {},
   "outputs": [],
   "source": [
    "### find closest date to each cluster centroid\n",
    "closest, _ = pairwise_distances_argmin_min(kmeans.cluster_centers_, reshaped_data)\n",
    "noise_list = []\n",
    "for i in closest:\n",
    "    selected_rows = RTDLoadNoise.loc[RTDLoadNoise.index.date == train_pre.index.date[24*i]].values\n",
    "    noise_list.append(selected_rows)\n",
    "noise_list = np.stack(noise_list)\n",
    "# j = 0\n",
    "# for i in closest:\n",
    "#     selected_rows = RTDLoadNoise.loc[RTDLoadNoise.index.date == train_pre.index.date[24*i]]\n",
    "#     selected_rows.to_csv(f\"./noise/cluster_{j}.csv\")\n",
    "#     j=j+1"
   ]
  },
  {
   "cell_type": "code",
   "execution_count": 19,
   "id": "e16f0f34",
   "metadata": {},
   "outputs": [
    {
     "data": {
      "text/plain": [
       "(8, 288)"
      ]
     },
     "execution_count": 19,
     "metadata": {},
     "output_type": "execute_result"
    }
   ],
   "source": [
    "noise_list[:, :, 0].shape"
   ]
  },
  {
   "cell_type": "code",
   "execution_count": 24,
   "id": "137dee7d",
   "metadata": {},
   "outputs": [
    {
     "data": {
      "text/plain": [
       "-0.023363502543590715"
      ]
     },
     "execution_count": 24,
     "metadata": {},
     "output_type": "execute_result"
    }
   ],
   "source": [
    "noise_list[:, :, 0].min()"
   ]
  },
  {
   "cell_type": "markdown",
   "id": "cbb39d11",
   "metadata": {},
   "source": [
    "### ADS day-ahead load prediction"
   ]
  },
  {
   "cell_type": "code",
   "execution_count": 25,
   "id": "fd18ee3e",
   "metadata": {},
   "outputs": [],
   "source": [
    "ADSLoad = pd.read_csv(\"./Processed Data/Load.csv\")[['1','2','3']]\n",
    "ADSLoad['CAISO'] = ADSLoad[['1', '2', '3']].sum(axis=1)\n",
    "ADSLoad = ADSLoad[['CAISO', '1', '2', '3']]\n",
    "reshaped_ADSLoad = ADSLoad.values.reshape(-1, 24*4)/max(ADSLoad['CAISO'])  # reshapes data to have 365 data points each of 24*4=96 features"
   ]
  },
  {
   "cell_type": "code",
   "execution_count": 26,
   "id": "331a20e2",
   "metadata": {},
   "outputs": [
    {
     "data": {
      "text/plain": [
       "1.248450188844992"
      ]
     },
     "execution_count": 26,
     "metadata": {},
     "output_type": "execute_result"
    }
   ],
   "source": [
    "ADSLoad['CAISO'].max()/train_pre['CAISO'].max()"
   ]
  },
  {
   "cell_type": "code",
   "execution_count": 27,
   "id": "371dbb23",
   "metadata": {},
   "outputs": [],
   "source": [
    "ADSLoad_C = pd.read_csv(\"./Processed Data/Load.csv\")"
   ]
  },
  {
   "cell_type": "code",
   "execution_count": 28,
   "id": "f795f242",
   "metadata": {},
   "outputs": [],
   "source": [
    "ADSLoad_C = ADSLoad_C.iloc[:,1:8]/(ADSLoad['CAISO'].max()/train_pre['CAISO'].max())\n",
    "ADSLoad_C.to_csv('Processed Data/Load_C.csv')"
   ]
  },
  {
   "cell_type": "code",
   "execution_count": 29,
   "id": "fcf19d14",
   "metadata": {},
   "outputs": [
    {
     "data": {
      "text/html": [
       "<div>\n",
       "<style scoped>\n",
       "    .dataframe tbody tr th:only-of-type {\n",
       "        vertical-align: middle;\n",
       "    }\n",
       "\n",
       "    .dataframe tbody tr th {\n",
       "        vertical-align: top;\n",
       "    }\n",
       "\n",
       "    .dataframe thead th {\n",
       "        text-align: right;\n",
       "    }\n",
       "</style>\n",
       "<table border=\"1\" class=\"dataframe\">\n",
       "  <thead>\n",
       "    <tr style=\"text-align: right;\">\n",
       "      <th></th>\n",
       "      <th>1</th>\n",
       "      <th>2</th>\n",
       "      <th>3</th>\n",
       "      <th>4</th>\n",
       "      <th>5</th>\n",
       "      <th>6</th>\n",
       "      <th>7</th>\n",
       "    </tr>\n",
       "  </thead>\n",
       "  <tbody>\n",
       "    <tr>\n",
       "      <th>0</th>\n",
       "      <td>10372.393801</td>\n",
       "      <td>11283.621987</td>\n",
       "      <td>1869.517920</td>\n",
       "      <td>34050.217125</td>\n",
       "      <td>17591.410692</td>\n",
       "      <td>10963.245568</td>\n",
       "      <td>1482.638247</td>\n",
       "    </tr>\n",
       "    <tr>\n",
       "      <th>1</th>\n",
       "      <td>9590.505178</td>\n",
       "      <td>10447.249010</td>\n",
       "      <td>1742.961008</td>\n",
       "      <td>32770.230135</td>\n",
       "      <td>17149.262495</td>\n",
       "      <td>10686.101952</td>\n",
       "      <td>1421.762771</td>\n",
       "    </tr>\n",
       "    <tr>\n",
       "      <th>2</th>\n",
       "      <td>9011.344706</td>\n",
       "      <td>9950.808699</td>\n",
       "      <td>1605.190193</td>\n",
       "      <td>32162.276364</td>\n",
       "      <td>17090.789998</td>\n",
       "      <td>10562.749013</td>\n",
       "      <td>1389.723047</td>\n",
       "    </tr>\n",
       "    <tr>\n",
       "      <th>3</th>\n",
       "      <td>8660.693952</td>\n",
       "      <td>9594.030348</td>\n",
       "      <td>1493.051158</td>\n",
       "      <td>32020.500583</td>\n",
       "      <td>17144.456536</td>\n",
       "      <td>10594.788737</td>\n",
       "      <td>1360.887295</td>\n",
       "    </tr>\n",
       "    <tr>\n",
       "      <th>4</th>\n",
       "      <td>8588.600567</td>\n",
       "      <td>9456.099335</td>\n",
       "      <td>1456.205475</td>\n",
       "      <td>32362.524641</td>\n",
       "      <td>17834.912597</td>\n",
       "      <td>10828.678726</td>\n",
       "      <td>1352.877364</td>\n",
       "    </tr>\n",
       "    <tr>\n",
       "      <th>...</th>\n",
       "      <td>...</td>\n",
       "      <td>...</td>\n",
       "      <td>...</td>\n",
       "      <td>...</td>\n",
       "      <td>...</td>\n",
       "      <td>...</td>\n",
       "      <td>...</td>\n",
       "    </tr>\n",
       "    <tr>\n",
       "      <th>8779</th>\n",
       "      <td>14972.048678</td>\n",
       "      <td>15877.725981</td>\n",
       "      <td>3087.027448</td>\n",
       "      <td>40358.037870</td>\n",
       "      <td>22627.254377</td>\n",
       "      <td>14518.219599</td>\n",
       "      <td>1686.090497</td>\n",
       "    </tr>\n",
       "    <tr>\n",
       "      <th>8780</th>\n",
       "      <td>14680.838021</td>\n",
       "      <td>15695.612188</td>\n",
       "      <td>3034.962895</td>\n",
       "      <td>39247.861419</td>\n",
       "      <td>22096.195945</td>\n",
       "      <td>14579.896068</td>\n",
       "      <td>1669.269642</td>\n",
       "    </tr>\n",
       "    <tr>\n",
       "      <th>8781</th>\n",
       "      <td>14265.469427</td>\n",
       "      <td>15456.699973</td>\n",
       "      <td>2904.401018</td>\n",
       "      <td>38063.993602</td>\n",
       "      <td>21030.875108</td>\n",
       "      <td>14403.677584</td>\n",
       "      <td>1620.409062</td>\n",
       "    </tr>\n",
       "    <tr>\n",
       "      <th>8782</th>\n",
       "      <td>13550.688006</td>\n",
       "      <td>14857.677275</td>\n",
       "      <td>2741.799417</td>\n",
       "      <td>36405.937863</td>\n",
       "      <td>20119.344948</td>\n",
       "      <td>13898.250931</td>\n",
       "      <td>1550.722662</td>\n",
       "    </tr>\n",
       "    <tr>\n",
       "      <th>8783</th>\n",
       "      <td>12451.704633</td>\n",
       "      <td>13954.950030</td>\n",
       "      <td>2481.476656</td>\n",
       "      <td>34336.972659</td>\n",
       "      <td>19307.938927</td>\n",
       "      <td>13291.098154</td>\n",
       "      <td>1462.613420</td>\n",
       "    </tr>\n",
       "  </tbody>\n",
       "</table>\n",
       "<p>8784 rows × 7 columns</p>\n",
       "</div>"
      ],
      "text/plain": [
       "                 1             2            3             4             5  \\\n",
       "0     10372.393801  11283.621987  1869.517920  34050.217125  17591.410692   \n",
       "1      9590.505178  10447.249010  1742.961008  32770.230135  17149.262495   \n",
       "2      9011.344706   9950.808699  1605.190193  32162.276364  17090.789998   \n",
       "3      8660.693952   9594.030348  1493.051158  32020.500583  17144.456536   \n",
       "4      8588.600567   9456.099335  1456.205475  32362.524641  17834.912597   \n",
       "...            ...           ...          ...           ...           ...   \n",
       "8779  14972.048678  15877.725981  3087.027448  40358.037870  22627.254377   \n",
       "8780  14680.838021  15695.612188  3034.962895  39247.861419  22096.195945   \n",
       "8781  14265.469427  15456.699973  2904.401018  38063.993602  21030.875108   \n",
       "8782  13550.688006  14857.677275  2741.799417  36405.937863  20119.344948   \n",
       "8783  12451.704633  13954.950030  2481.476656  34336.972659  19307.938927   \n",
       "\n",
       "                 6            7  \n",
       "0     10963.245568  1482.638247  \n",
       "1     10686.101952  1421.762771  \n",
       "2     10562.749013  1389.723047  \n",
       "3     10594.788737  1360.887295  \n",
       "4     10828.678726  1352.877364  \n",
       "...            ...          ...  \n",
       "8779  14518.219599  1686.090497  \n",
       "8780  14579.896068  1669.269642  \n",
       "8781  14403.677584  1620.409062  \n",
       "8782  13898.250931  1550.722662  \n",
       "8783  13291.098154  1462.613420  \n",
       "\n",
       "[8784 rows x 7 columns]"
      ]
     },
     "execution_count": 29,
     "metadata": {},
     "output_type": "execute_result"
    }
   ],
   "source": [
    "ADSLoad_C"
   ]
  },
  {
   "cell_type": "code",
   "execution_count": 30,
   "id": "fc77a796",
   "metadata": {},
   "outputs": [
    {
     "name": "stderr",
     "output_type": "stream",
     "text": [
      "/var/folders/f2/rxpbf6rd2wjbpqry4k3rs6fr0000gn/T/ipykernel_18988/1359669237.py:2: SettingWithCopyWarning: \n",
      "A value is trying to be set on a copy of a slice from a DataFrame.\n",
      "Try using .loc[row_indexer,col_indexer] = value instead\n",
      "\n",
      "See the caveats in the documentation: https://pandas.pydata.org/pandas-docs/stable/user_guide/indexing.html#returning-a-view-versus-a-copy\n",
      "  ADSLoadC['CAISO'] = ADSLoadC[['1', '2', '3']].sum(axis=1)\n"
     ]
    }
   ],
   "source": [
    "ADSLoadC = ADSLoad_C[['1','2','3']]\n",
    "ADSLoadC['CAISO'] = ADSLoadC[['1', '2', '3']].sum(axis=1)\n",
    "ADSLoadC = ADSLoadC[['CAISO', '1', '2', '3']]"
   ]
  },
  {
   "cell_type": "code",
   "execution_count": 31,
   "id": "75394bf9",
   "metadata": {},
   "outputs": [
    {
     "data": {
      "text/plain": [
       "array([[0.45843352, 0.20212307, 0.21987984, ..., 0.21992401, 0.24020825,\n",
       "        0.04187804],\n",
       "       [0.45144062, 0.19712058, 0.21890398, ..., 0.21835495, 0.23788006,\n",
       "        0.04301747],\n",
       "       [0.45011146, 0.19781447, 0.21491425, ..., 0.22350383, 0.21634401,\n",
       "        0.04069178],\n",
       "       ...,\n",
       "       [0.43936696, 0.19263336, 0.20857043, ..., 0.23267482, 0.2554846 ,\n",
       "        0.04567094],\n",
       "       [0.48129203, 0.20811127, 0.23389376, ..., 0.23980968, 0.26519459,\n",
       "        0.04573338],\n",
       "       [0.4931575 , 0.21379227, 0.24023431, ..., 0.24264184, 0.27193504,\n",
       "        0.04835563]])"
      ]
     },
     "execution_count": 31,
     "metadata": {},
     "output_type": "execute_result"
    }
   ],
   "source": [
    "reshaped_ADSLoad"
   ]
  },
  {
   "cell_type": "code",
   "execution_count": 32,
   "id": "d818f7d4",
   "metadata": {
    "scrolled": true
   },
   "outputs": [
    {
     "data": {
      "text/plain": [
       "array([6, 6, 5, 7, 6, 6, 6, 6, 6, 5, 7, 5, 6, 6, 6, 5, 7, 7, 6, 6, 6, 6,\n",
       "       6, 7, 7, 6, 6, 6, 5, 5, 7, 1, 5, 5, 6, 6, 5, 7, 1, 5, 5, 5, 5, 5,\n",
       "       7, 1, 5, 6, 6, 6, 6, 7, 7, 5, 6, 6, 6, 6, 7, 7, 5, 5, 5, 5, 5, 7,\n",
       "       1, 5, 5, 5, 5, 5, 7, 7, 5, 5, 5, 5, 5, 7, 1, 5, 5, 5, 5, 5, 7, 1,\n",
       "       5, 5, 5, 5, 5, 5, 7, 6, 6, 6, 5, 5, 5, 7, 5, 5, 5, 5, 5, 5, 5, 6,\n",
       "       6, 6, 6, 5, 7, 7, 5, 5, 5, 5, 0, 6, 5, 0, 0, 0, 0, 6, 5, 7, 6, 6,\n",
       "       6, 6, 6, 5, 7, 5, 6, 6, 6, 5, 7, 7, 6, 4, 0, 6, 0, 0, 0, 4, 0, 0,\n",
       "       0, 4, 6, 6, 4, 2, 2, 4, 4, 6, 5, 0, 4, 4, 4, 2, 4, 0, 4, 4, 4, 4,\n",
       "       4, 4, 6, 0, 0, 6, 0, 2, 2, 4, 2, 2, 2, 2, 2, 4, 4, 2, 2, 2, 2, 2,\n",
       "       4, 4, 2, 2, 2, 2, 2, 4, 4, 2, 2, 2, 2, 2, 2, 4, 2, 2, 2, 2, 2, 2,\n",
       "       4, 2, 4, 2, 2, 2, 2, 4, 2, 4, 4, 4, 4, 0, 6, 0, 0, 4, 4, 4, 4, 0,\n",
       "       4, 2, 2, 2, 2, 2, 4, 2, 2, 4, 4, 4, 0, 0, 4, 4, 4, 4, 2, 4, 0, 4,\n",
       "       4, 4, 2, 4, 6, 6, 4, 4, 0, 0, 0, 5, 5, 0, 0, 6, 6, 6, 5, 5, 6, 6,\n",
       "       6, 6, 0, 6, 5, 6, 6, 6, 0, 0, 6, 5, 6, 6, 6, 6, 6, 5, 5, 6, 6, 6,\n",
       "       6, 6, 5, 7, 5, 6, 6, 6, 6, 5, 7, 6, 6, 5, 7, 7, 7, 7, 5, 6, 5, 6,\n",
       "       5, 5, 5, 0, 0, 0, 0, 6, 5, 5, 0, 0, 0, 0, 0, 5, 5, 6, 6, 6, 6, 6,\n",
       "       5, 7, 5, 7, 6, 6, 6, 5, 7, 5, 7, 6, 6, 6], dtype=int32)"
      ]
     },
     "execution_count": 32,
     "metadata": {},
     "output_type": "execute_result"
    }
   ],
   "source": [
    "predictions = kmeans.predict(reshaped_ADSLoad)\n",
    "predictions"
   ]
  },
  {
   "cell_type": "code",
   "execution_count": 33,
   "id": "0c394323",
   "metadata": {},
   "outputs": [
    {
     "data": {
      "image/png": "[encoded data removed]",
      "text/plain": [
       "<Figure size 640x480 with 1 Axes>"
      ]
     },
     "metadata": {},
     "output_type": "display_data"
    }
   ],
   "source": [
    "# Generate some data\n",
    "x2 = np.linspace(0, 366, 366)\n",
    "y2 = predictions\n",
    "\n",
    "# Create a figure and axis\n",
    "fig, ax = plt.subplots()\n",
    "\n",
    "# Plot the data\n",
    "ax.plot(x1, y1)\n",
    "\n",
    "# Plot the data\n",
    "ax.plot(x2, y2)\n",
    "\n",
    "# Show the plot\n",
    "plt.show()"
   ]
  },
  {
   "cell_type": "markdown",
   "id": "09bc4ab2",
   "metadata": {},
   "source": [
    "### Apply noise to ADS load base on prediciton"
   ]
  },
  {
   "cell_type": "code",
   "execution_count": 34,
   "id": "98e23b1c",
   "metadata": {},
   "outputs": [
    {
     "data": {
      "text/plain": [
       "36103.0301625683"
      ]
     },
     "execution_count": 34,
     "metadata": {},
     "output_type": "execute_result"
    }
   ],
   "source": [
    "ADSLoad['CAISO'].mean()"
   ]
  },
  {
   "cell_type": "code",
   "execution_count": 35,
   "id": "740aa325",
   "metadata": {},
   "outputs": [
    {
     "data": {
      "text/plain": [
       "28918.27842644579"
      ]
     },
     "execution_count": 35,
     "metadata": {},
     "output_type": "execute_result"
    }
   ],
   "source": [
    "ADSLoadC['CAISO'].mean()"
   ]
  },
  {
   "cell_type": "code",
   "execution_count": 36,
   "id": "b6b1f341",
   "metadata": {},
   "outputs": [
    {
     "data": {
      "text/plain": [
       "1.2484501888449917"
      ]
     },
     "execution_count": 36,
     "metadata": {},
     "output_type": "execute_result"
    }
   ],
   "source": [
    "ADSLoad['CAISO'].mean()/ADSLoadC['CAISO'].mean()"
   ]
  },
  {
   "cell_type": "code",
   "execution_count": 37,
   "id": "1fdb0fe6",
   "metadata": {},
   "outputs": [
    {
     "data": {
      "text/plain": [
       "1.2484501888449921"
      ]
     },
     "execution_count": 37,
     "metadata": {},
     "output_type": "execute_result"
    }
   ],
   "source": [
    "ADSLoad['CAISO'].max()/ADSLoadC['CAISO'].max()"
   ]
  },
  {
   "cell_type": "code",
   "execution_count": 38,
   "id": "b2d556b8",
   "metadata": {},
   "outputs": [
    {
     "data": {
      "text/plain": [
       "64066.993"
      ]
     },
     "execution_count": 38,
     "metadata": {},
     "output_type": "execute_result"
    }
   ],
   "source": [
    "max(ADSLoad['CAISO'])"
   ]
  },
  {
   "cell_type": "code",
   "execution_count": 39,
   "id": "2b0f32cf",
   "metadata": {},
   "outputs": [
    {
     "data": {
      "text/plain": [
       "array([[ 3.42967994e+03,  2.25413924e+03,  9.81506569e+02,\n",
       "         1.94034128e+02],\n",
       "       [ 3.15338542e+03,  2.06117878e+03,  9.20344995e+02,\n",
       "         1.71861653e+02],\n",
       "       [ 2.97138636e+03,  1.96161487e+03,  8.65737783e+02,\n",
       "         1.44033698e+02],\n",
       "       ...,\n",
       "       [ 8.30843601e+02,  7.88770829e+02,  2.30963285e+00,\n",
       "         3.97631385e+01],\n",
       "       [ 6.79980880e+02,  7.35399584e+02, -6.75786087e+01,\n",
       "         1.21599048e+01],\n",
       "       [ 5.67857568e+02,  6.60342758e+02, -8.85525719e+01,\n",
       "        -3.93261809e+00]])"
      ]
     },
     "execution_count": 39,
     "metadata": {},
     "output_type": "execute_result"
    }
   ],
   "source": [
    "noise_list_ADS = max(ADSLoad['CAISO'])*noise_list\n",
    "noise_list_ADS[1]"
   ]
  },
  {
   "cell_type": "code",
   "execution_count": 40,
   "id": "1f5fb5e1",
   "metadata": {},
   "outputs": [
    {
     "data": {
      "text/plain": [
       "array([[ 2.74715e+03,  1.80555e+03,  7.86180e+02,  1.55420e+02],\n",
       "       [ 2.52584e+03,  1.65099e+03,  7.37190e+02,  1.37660e+02],\n",
       "       [ 2.38006e+03,  1.57124e+03,  6.93450e+02,  1.15370e+02],\n",
       "       ...,\n",
       "       [ 6.65500e+02,  6.31800e+02,  1.85000e+00,  3.18500e+01],\n",
       "       [ 5.44660e+02,  5.89050e+02, -5.41300e+01,  9.74000e+00],\n",
       "       [ 4.54850e+02,  5.28930e+02, -7.09300e+01, -3.15000e+00]])"
      ]
     },
     "execution_count": 40,
     "metadata": {},
     "output_type": "execute_result"
    }
   ],
   "source": [
    "noise_list_ADSC = max(ADSLoadC['CAISO'])*noise_list\n",
    "noise_list_ADSC[1]"
   ]
  },
  {
   "cell_type": "code",
   "execution_count": 41,
   "id": "4929b319",
   "metadata": {},
   "outputs": [],
   "source": [
    "ADSLoad_repeated = ADSLoad.loc[ADSLoad.index.repeat(12)].reset_index(drop=True)"
   ]
  },
  {
   "cell_type": "code",
   "execution_count": 42,
   "id": "8e297ab3",
   "metadata": {},
   "outputs": [],
   "source": [
    "ADSLoadC_repeated = ADSLoadC.loc[ADSLoad.index.repeat(12)].reset_index(drop=True)"
   ]
  },
  {
   "cell_type": "code",
   "execution_count": 45,
   "id": "a620a72f",
   "metadata": {},
   "outputs": [],
   "source": [
    "ADSLoadCDouble_repeated = ADSLoadC.loc[ADSLoad.index.repeat(12)].reset_index(drop=True)"
   ]
  },
  {
   "cell_type": "code",
   "execution_count": 43,
   "id": "bbd62987",
   "metadata": {
    "scrolled": true
   },
   "outputs": [
    {
     "data": {
      "text/plain": [
       "array([[21855.64370765,  8932.80380129, 11133.30198658,  1789.53791978],\n",
       "       [21913.49370765,  8967.31380129, 11141.72198658,  1804.45791978],\n",
       "       [22039.04370765,  9050.97380129, 11165.14198658,  1822.92791978],\n",
       "       ...,\n",
       "       [23835.43270617, 10223.67879708, 11570.62939376,  2041.12451533],\n",
       "       [23936.09270617, 10277.64879708, 11598.89939376,  2059.54451533],\n",
       "       [24008.40270617, 10331.38379708, 11603.04439376,  2073.97451533]])"
      ]
     },
     "execution_count": 43,
     "metadata": {},
     "output_type": "execute_result"
    }
   ],
   "source": [
    "-noise_list_ADSC[predictions[0]]+ADSLoadC_repeated[0:288].values"
   ]
  },
  {
   "cell_type": "code",
   "execution_count": 40,
   "id": "14803b85",
   "metadata": {},
   "outputs": [],
   "source": [
    "ADSRTDLoad = np.empty((0, 4))\n",
    "for i in range(len(reshaped_ADSLoad)):\n",
    "    adjust = -noise_list_ADS[predictions[i]]+ADSLoad_repeated[i*288:i*288+288].values\n",
    "    ADSRTDLoad = np.vstack((ADSRTDLoad, adjust))"
   ]
  },
  {
   "cell_type": "code",
   "execution_count": 47,
   "id": "ea336bc3",
   "metadata": {},
   "outputs": [],
   "source": [
    "ADSRTDLoadC = np.empty((0, 4))\n",
    "for i in range(len(reshaped_ADSLoad)):\n",
    "    adjustC = -noise_list_ADSC[predictions[i]]+ADSLoadC_repeated[i*288:i*288+288].values\n",
    "    ADSRTDLoadC = np.vstack((ADSRTDLoadC, adjustC))"
   ]
  },
  {
   "cell_type": "code",
   "execution_count": 53,
   "id": "76195f32",
   "metadata": {},
   "outputs": [],
   "source": [
    "ADSRTDLoadCTriple = np.empty((0, 4))\n",
    "for i in range(len(reshaped_ADSLoad)):\n",
    "    adjustC = -noise_list_ADSC[predictions[i]]*3+ADSLoadC_repeated[i*288:i*288+288].values\n",
    "    ADSRTDLoadCTriple = np.vstack((ADSRTDLoadCTriple, adjustC))"
   ]
  },
  {
   "cell_type": "code",
   "execution_count": 42,
   "id": "89ec370e",
   "metadata": {},
   "outputs": [
    {
     "data": {
      "text/plain": [
       "105408"
      ]
     },
     "execution_count": 42,
     "metadata": {},
     "output_type": "execute_result"
    }
   ],
   "source": [
    "len(ADSRTDLoadC)"
   ]
  },
  {
   "cell_type": "code",
   "execution_count": 43,
   "id": "0502b39d",
   "metadata": {},
   "outputs": [
    {
     "data": {
      "text/plain": [
       "array([[42510.        , 21962.        , 13687.066     ,  1851.        ],\n",
       "       [42376.83333333, 21916.        , 13658.23266667,  1844.66666667],\n",
       "       [42243.66666667, 21870.        , 13629.39933333,  1838.33333333],\n",
       "       ...,\n",
       "       [42868.        , 24105.        , 16593.274     ,  1826.        ],\n",
       "       [42868.        , 24105.        , 16593.274     ,  1826.        ],\n",
       "       [42868.        , 24105.        , 16593.274     ,  1826.        ]])"
      ]
     },
     "execution_count": 43,
     "metadata": {},
     "output_type": "execute_result"
    }
   ],
   "source": [
    "ADSLoad_rest = pd.read_csv(\"./Processed Data/Load.csv\")[['4','5','6','7']]\n",
    "new_index = np.arange(ADSLoad_rest.index.min(), ADSLoad_rest.index.max() + 1, 1/12)\n",
    "ADSLoad_rest_reindexed = ADSLoad_rest.reindex(new_index)\n",
    "ADSLoad_rest_interpolated = ADSLoad_rest_reindexed.interpolate(method='linear')\n",
    "ADSLoad_rest_interpolated.values"
   ]
  },
  {
   "cell_type": "code",
   "execution_count": 51,
   "id": "f33560da",
   "metadata": {},
   "outputs": [
    {
     "data": {
      "text/plain": [
       "array([[34050.21712506, 17591.41069162, 10963.24556822,  1482.63824744],\n",
       "       [33943.55154252, 17554.56500854, 10940.15026687,  1477.56529107],\n",
       "       [33836.88595998, 17517.71932546, 10917.05496552,  1472.4923347 ],\n",
       "       ...,\n",
       "       [34336.9726586 , 19307.9389273 , 13291.09815374,  1462.61341967],\n",
       "       [34336.9726586 , 19307.9389273 , 13291.09815374,  1462.61341967],\n",
       "       [34336.9726586 , 19307.9389273 , 13291.09815374,  1462.61341967]])"
      ]
     },
     "execution_count": 51,
     "metadata": {},
     "output_type": "execute_result"
    }
   ],
   "source": [
    "ADSLoadC_rest = pd.read_csv(\"./Processed Data/Load_C.csv\")[['4','5','6','7']]\n",
    "new_index = np.arange(ADSLoadC_rest.index.min(), ADSLoadC_rest.index.max() + 1, 1/12)\n",
    "ADSLoadC_rest_reindexed = ADSLoadC_rest.reindex(new_index)\n",
    "ADSLoadC_rest_interpolated = ADSLoadC_rest_reindexed.interpolate(method='linear')\n",
    "ADSLoadC_rest_interpolated.values"
   ]
  },
  {
   "cell_type": "code",
   "execution_count": 45,
   "id": "3b00a5ae",
   "metadata": {},
   "outputs": [],
   "source": [
    "ADSLoad_RTD = np.hstack((ADSRTDLoad, ADSLoad_rest_interpolated))\n",
    "np.savetxt(\"realtimeload_R.csv\", ADSLoad_RTD, delimiter=\",\")\n"
   ]
  },
  {
   "cell_type": "code",
   "execution_count": 46,
   "id": "cfcb78dc",
   "metadata": {},
   "outputs": [],
   "source": [
    "ADSLoadC_RTD = np.hstack((ADSRTDLoadC, ADSLoadC_rest_interpolated))\n",
    "np.savetxt(\"realtimeload_C_R.csv\", ADSLoadC_RTD, delimiter=\",\")"
   ]
  },
  {
   "cell_type": "code",
   "execution_count": 54,
   "id": "f9d4a340",
   "metadata": {},
   "outputs": [],
   "source": [
    "ADSLoadCTriple_RTD = np.hstack((ADSRTDLoadCTriple, ADSLoadC_rest_interpolated))\n",
    "np.savetxt(\"realtimeload_C_R_Triple.csv\", ADSLoadCTriple_RTD, delimiter=\",\")"
   ]
  },
  {
   "cell_type": "code",
   "execution_count": 47,
   "id": "288c1c8a",
   "metadata": {},
   "outputs": [
    {
     "data": {
      "text/plain": [
       "array([[21855.64370765,  8932.80380129, 11133.30198658,  1789.53791978],\n",
       "       [21913.49370765,  8967.31380129, 11141.72198658,  1804.45791978],\n",
       "       [22039.04370765,  9050.97380129, 11165.14198658,  1822.92791978],\n",
       "       ...,\n",
       "       [26961.79131853, 11389.49463259, 13198.76002978,  2373.53665616],\n",
       "       [27062.45131853, 11443.46463259, 13227.03002978,  2391.95665616],\n",
       "       [27134.76131853, 11497.19963259, 13231.17502978,  2406.38665616]])"
      ]
     },
     "execution_count": 47,
     "metadata": {},
     "output_type": "execute_result"
    }
   ],
   "source": [
    "ADSRTDLoadC"
   ]
  },
  {
   "cell_type": "code",
   "execution_count": 48,
   "id": "f6bcb830",
   "metadata": {},
   "outputs": [
    {
     "data": {
      "text/html": [
       "<div>\n",
       "<style scoped>\n",
       "    .dataframe tbody tr th:only-of-type {\n",
       "        vertical-align: middle;\n",
       "    }\n",
       "\n",
       "    .dataframe tbody tr th {\n",
       "        vertical-align: top;\n",
       "    }\n",
       "\n",
       "    .dataframe thead th {\n",
       "        text-align: right;\n",
       "    }\n",
       "</style>\n",
       "<table border=\"1\" class=\"dataframe\">\n",
       "  <thead>\n",
       "    <tr style=\"text-align: right;\">\n",
       "      <th>TAC_AREA_NAME</th>\n",
       "      <th>CA ISO-TAC</th>\n",
       "      <th>MWD-TAC</th>\n",
       "      <th>PGE-TAC</th>\n",
       "      <th>SCE-TAC</th>\n",
       "      <th>SDGE-TAC</th>\n",
       "      <th>VEA-TAC</th>\n",
       "    </tr>\n",
       "    <tr>\n",
       "      <th>INTERVALSTARTTIME_GMT</th>\n",
       "      <th></th>\n",
       "      <th></th>\n",
       "      <th></th>\n",
       "      <th></th>\n",
       "      <th></th>\n",
       "      <th></th>\n",
       "    </tr>\n",
       "  </thead>\n",
       "  <tbody>\n",
       "    <tr>\n",
       "      <th>2021-12-31 08:00:00+00:00</th>\n",
       "      <td>22062.04</td>\n",
       "      <td>212.02</td>\n",
       "      <td>9385.72</td>\n",
       "      <td>9336.17</td>\n",
       "      <td>2002.17</td>\n",
       "      <td>70.63</td>\n",
       "    </tr>\n",
       "    <tr>\n",
       "      <th>2021-12-31 08:05:00+00:00</th>\n",
       "      <td>21971.23</td>\n",
       "      <td>211.99</td>\n",
       "      <td>9347.57</td>\n",
       "      <td>9292.39</td>\n",
       "      <td>1996.91</td>\n",
       "      <td>70.80</td>\n",
       "    </tr>\n",
       "    <tr>\n",
       "      <th>2021-12-31 08:10:00+00:00</th>\n",
       "      <td>21877.07</td>\n",
       "      <td>211.80</td>\n",
       "      <td>9305.30</td>\n",
       "      <td>9250.18</td>\n",
       "      <td>1992.05</td>\n",
       "      <td>70.25</td>\n",
       "    </tr>\n",
       "    <tr>\n",
       "      <th>2021-12-31 08:15:00+00:00</th>\n",
       "      <td>21781.70</td>\n",
       "      <td>211.40</td>\n",
       "      <td>9258.01</td>\n",
       "      <td>9210.23</td>\n",
       "      <td>1987.69</td>\n",
       "      <td>70.47</td>\n",
       "    </tr>\n",
       "    <tr>\n",
       "      <th>2021-12-31 08:20:00+00:00</th>\n",
       "      <td>21672.74</td>\n",
       "      <td>210.66</td>\n",
       "      <td>9202.12</td>\n",
       "      <td>9171.41</td>\n",
       "      <td>1977.69</td>\n",
       "      <td>69.99</td>\n",
       "    </tr>\n",
       "    <tr>\n",
       "      <th>...</th>\n",
       "      <td>...</td>\n",
       "      <td>...</td>\n",
       "      <td>...</td>\n",
       "      <td>...</td>\n",
       "      <td>...</td>\n",
       "      <td>...</td>\n",
       "    </tr>\n",
       "    <tr>\n",
       "      <th>2023-01-01 07:35:00+00:00</th>\n",
       "      <td>20993.08</td>\n",
       "      <td>206.81</td>\n",
       "      <td>8771.84</td>\n",
       "      <td>8897.09</td>\n",
       "      <td>2051.90</td>\n",
       "      <td>63.99</td>\n",
       "    </tr>\n",
       "    <tr>\n",
       "      <th>2023-01-01 07:40:00+00:00</th>\n",
       "      <td>20941.46</td>\n",
       "      <td>206.81</td>\n",
       "      <td>8756.46</td>\n",
       "      <td>8867.53</td>\n",
       "      <td>2049.83</td>\n",
       "      <td>63.81</td>\n",
       "    </tr>\n",
       "    <tr>\n",
       "      <th>2023-01-01 07:45:00+00:00</th>\n",
       "      <td>20734.96</td>\n",
       "      <td>206.82</td>\n",
       "      <td>8604.44</td>\n",
       "      <td>8807.64</td>\n",
       "      <td>2054.20</td>\n",
       "      <td>63.85</td>\n",
       "    </tr>\n",
       "    <tr>\n",
       "      <th>2023-01-01 07:50:00+00:00</th>\n",
       "      <td>20673.72</td>\n",
       "      <td>206.79</td>\n",
       "      <td>8574.65</td>\n",
       "      <td>8779.28</td>\n",
       "      <td>2052.77</td>\n",
       "      <td>64.48</td>\n",
       "    </tr>\n",
       "    <tr>\n",
       "      <th>2023-01-01 07:55:00+00:00</th>\n",
       "      <td>20624.15</td>\n",
       "      <td>206.70</td>\n",
       "      <td>8558.20</td>\n",
       "      <td>8748.99</td>\n",
       "      <td>2052.95</td>\n",
       "      <td>64.41</td>\n",
       "    </tr>\n",
       "  </tbody>\n",
       "</table>\n",
       "<p>105408 rows × 6 columns</p>\n",
       "</div>"
      ],
      "text/plain": [
       "TAC_AREA_NAME              CA ISO-TAC  MWD-TAC  PGE-TAC  SCE-TAC  SDGE-TAC  \\\n",
       "INTERVALSTARTTIME_GMT                                                        \n",
       "2021-12-31 08:00:00+00:00    22062.04   212.02  9385.72  9336.17   2002.17   \n",
       "2021-12-31 08:05:00+00:00    21971.23   211.99  9347.57  9292.39   1996.91   \n",
       "2021-12-31 08:10:00+00:00    21877.07   211.80  9305.30  9250.18   1992.05   \n",
       "2021-12-31 08:15:00+00:00    21781.70   211.40  9258.01  9210.23   1987.69   \n",
       "2021-12-31 08:20:00+00:00    21672.74   210.66  9202.12  9171.41   1977.69   \n",
       "...                               ...      ...      ...      ...       ...   \n",
       "2023-01-01 07:35:00+00:00    20993.08   206.81  8771.84  8897.09   2051.90   \n",
       "2023-01-01 07:40:00+00:00    20941.46   206.81  8756.46  8867.53   2049.83   \n",
       "2023-01-01 07:45:00+00:00    20734.96   206.82  8604.44  8807.64   2054.20   \n",
       "2023-01-01 07:50:00+00:00    20673.72   206.79  8574.65  8779.28   2052.77   \n",
       "2023-01-01 07:55:00+00:00    20624.15   206.70  8558.20  8748.99   2052.95   \n",
       "\n",
       "TAC_AREA_NAME              VEA-TAC  \n",
       "INTERVALSTARTTIME_GMT               \n",
       "2021-12-31 08:00:00+00:00    70.63  \n",
       "2021-12-31 08:05:00+00:00    70.80  \n",
       "2021-12-31 08:10:00+00:00    70.25  \n",
       "2021-12-31 08:15:00+00:00    70.47  \n",
       "2021-12-31 08:20:00+00:00    69.99  \n",
       "...                            ...  \n",
       "2023-01-01 07:35:00+00:00    63.99  \n",
       "2023-01-01 07:40:00+00:00    63.81  \n",
       "2023-01-01 07:45:00+00:00    63.85  \n",
       "2023-01-01 07:50:00+00:00    64.48  \n",
       "2023-01-01 07:55:00+00:00    64.41  \n",
       "\n",
       "[105408 rows x 6 columns]"
      ]
     },
     "execution_count": 48,
     "metadata": {},
     "output_type": "execute_result"
    }
   ],
   "source": [
    "df_interpolated"
   ]
  },
  {
   "cell_type": "code",
   "execution_count": 49,
   "id": "d16d443a",
   "metadata": {},
   "outputs": [
    {
     "data": {
      "text/html": [
       "<div>\n",
       "<style scoped>\n",
       "    .dataframe tbody tr th:only-of-type {\n",
       "        vertical-align: middle;\n",
       "    }\n",
       "\n",
       "    .dataframe tbody tr th {\n",
       "        vertical-align: top;\n",
       "    }\n",
       "\n",
       "    .dataframe thead th {\n",
       "        text-align: right;\n",
       "    }\n",
       "</style>\n",
       "<table border=\"1\" class=\"dataframe\">\n",
       "  <thead>\n",
       "    <tr style=\"text-align: right;\">\n",
       "      <th></th>\n",
       "      <th>4</th>\n",
       "      <th>5</th>\n",
       "      <th>6</th>\n",
       "      <th>7</th>\n",
       "    </tr>\n",
       "  </thead>\n",
       "  <tbody>\n",
       "    <tr>\n",
       "      <th>0.000000</th>\n",
       "      <td>34050.217125</td>\n",
       "      <td>17591.410692</td>\n",
       "      <td>10963.245568</td>\n",
       "      <td>1482.638247</td>\n",
       "    </tr>\n",
       "    <tr>\n",
       "      <th>0.083333</th>\n",
       "      <td>33943.551543</td>\n",
       "      <td>17554.565009</td>\n",
       "      <td>10940.150267</td>\n",
       "      <td>1477.565291</td>\n",
       "    </tr>\n",
       "    <tr>\n",
       "      <th>0.166667</th>\n",
       "      <td>33836.885960</td>\n",
       "      <td>17517.719325</td>\n",
       "      <td>10917.054966</td>\n",
       "      <td>1472.492335</td>\n",
       "    </tr>\n",
       "    <tr>\n",
       "      <th>0.250000</th>\n",
       "      <td>33730.220377</td>\n",
       "      <td>17480.873642</td>\n",
       "      <td>10893.959664</td>\n",
       "      <td>1467.419378</td>\n",
       "    </tr>\n",
       "    <tr>\n",
       "      <th>0.333333</th>\n",
       "      <td>33623.554795</td>\n",
       "      <td>17444.027959</td>\n",
       "      <td>10870.864363</td>\n",
       "      <td>1462.346422</td>\n",
       "    </tr>\n",
       "    <tr>\n",
       "      <th>...</th>\n",
       "      <td>...</td>\n",
       "      <td>...</td>\n",
       "      <td>...</td>\n",
       "      <td>...</td>\n",
       "    </tr>\n",
       "    <tr>\n",
       "      <th>8783.583333</th>\n",
       "      <td>34336.972659</td>\n",
       "      <td>19307.938927</td>\n",
       "      <td>13291.098154</td>\n",
       "      <td>1462.613420</td>\n",
       "    </tr>\n",
       "    <tr>\n",
       "      <th>8783.666667</th>\n",
       "      <td>34336.972659</td>\n",
       "      <td>19307.938927</td>\n",
       "      <td>13291.098154</td>\n",
       "      <td>1462.613420</td>\n",
       "    </tr>\n",
       "    <tr>\n",
       "      <th>8783.750000</th>\n",
       "      <td>34336.972659</td>\n",
       "      <td>19307.938927</td>\n",
       "      <td>13291.098154</td>\n",
       "      <td>1462.613420</td>\n",
       "    </tr>\n",
       "    <tr>\n",
       "      <th>8783.833333</th>\n",
       "      <td>34336.972659</td>\n",
       "      <td>19307.938927</td>\n",
       "      <td>13291.098154</td>\n",
       "      <td>1462.613420</td>\n",
       "    </tr>\n",
       "    <tr>\n",
       "      <th>8783.916667</th>\n",
       "      <td>34336.972659</td>\n",
       "      <td>19307.938927</td>\n",
       "      <td>13291.098154</td>\n",
       "      <td>1462.613420</td>\n",
       "    </tr>\n",
       "  </tbody>\n",
       "</table>\n",
       "<p>105408 rows × 4 columns</p>\n",
       "</div>"
      ],
      "text/plain": [
       "                        4             5             6            7\n",
       "0.000000     34050.217125  17591.410692  10963.245568  1482.638247\n",
       "0.083333     33943.551543  17554.565009  10940.150267  1477.565291\n",
       "0.166667     33836.885960  17517.719325  10917.054966  1472.492335\n",
       "0.250000     33730.220377  17480.873642  10893.959664  1467.419378\n",
       "0.333333     33623.554795  17444.027959  10870.864363  1462.346422\n",
       "...                   ...           ...           ...          ...\n",
       "8783.583333  34336.972659  19307.938927  13291.098154  1462.613420\n",
       "8783.666667  34336.972659  19307.938927  13291.098154  1462.613420\n",
       "8783.750000  34336.972659  19307.938927  13291.098154  1462.613420\n",
       "8783.833333  34336.972659  19307.938927  13291.098154  1462.613420\n",
       "8783.916667  34336.972659  19307.938927  13291.098154  1462.613420\n",
       "\n",
       "[105408 rows x 4 columns]"
      ]
     },
     "execution_count": 49,
     "metadata": {},
     "output_type": "execute_result"
    }
   ],
   "source": [
    "ADSLoadC_rest_interpolated"
   ]
  }
 ],
 "metadata": {
  "kernelspec": {
   "display_name": "Python 3 (ipykernel)",
   "language": "python",
   "name": "python3"
  },
  "language_info": {
   "codemirror_mode": {
    "name": "ipython",
    "version": 3
   },
   "file_extension": ".py",
   "mimetype": "text/x-python",
   "name": "python",
   "nbconvert_exporter": "python",
   "pygments_lexer": "ipython3",
   "version": "3.11.4"
  }
 },
 "nbformat": 4,
 "nbformat_minor": 5
}
