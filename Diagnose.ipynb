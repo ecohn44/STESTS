{
 "cells": [
  {
   "cell_type": "code",
   "execution_count": 1,
   "id": "32711b55",
   "metadata": {},
   "outputs": [],
   "source": [
    "import pandas as pd\n",
    "import numpy as np"
   ]
  },
  {
   "cell_type": "code",
   "execution_count": 16,
   "id": "3e9002ed",
   "metadata": {},
   "outputs": [],
   "source": [
    "Thermal = pd.read_csv('2032 ADS PCM V2.4.1 Public Data/Processed Data/ThermalGen.csv')\n",
    "UCgen = pd.read_csv('output/UCGen.csv',header=None)"
   ]
  },
  {
   "cell_type": "code",
   "execution_count": 22,
   "id": "a7fadaa2",
   "metadata": {},
   "outputs": [],
   "source": [
    "output0 = UCgen.iloc[0,:]"
   ]
  },
  {
   "cell_type": "code",
   "execution_count": 27,
   "id": "4c9b42e2",
   "metadata": {},
   "outputs": [],
   "source": [
    "Thermal['output0'] = UCgen.iloc[0,:]"
   ]
  },
  {
   "cell_type": "code",
   "execution_count": 25,
   "id": "f78f8cb9",
   "metadata": {},
   "outputs": [],
   "source": [
    "GPini = Thermal['InitialDispatch(MW)']\n",
    "GRU = Thermal['RampUp Rate(MW/minute)']*5\n",
    "GPmin = Thermal['IOMinCap(MW)']\n",
    "U0 = Thermal['Initial Status']"
   ]
  },
  {
   "cell_type": "code",
   "execution_count": 29,
   "id": "b34fc849",
   "metadata": {},
   "outputs": [],
   "source": [
    "subset_df = Thermal[Thermal['output0'] > 0]\n"
   ]
  },
  {
   "cell_type": "code",
   "execution_count": 54,
   "id": "5bb2c456",
   "metadata": {},
   "outputs": [
    {
     "data": {
      "text/plain": [
       "264"
      ]
     },
     "execution_count": 54,
     "metadata": {},
     "output_type": "execute_result"
    }
   ],
   "source": [
    "sum(subset_df['output0'] - subset_df['InitialDispatch(MW)'] > subset_df['RampUp Rate(MW/minute)']*5)"
   ]
  }
 ],
 "metadata": {
  "kernelspec": {
   "display_name": "Python 3 (ipykernel)",
   "language": "python",
   "name": "python3"
  },
  "language_info": {
   "codemirror_mode": {
    "name": "ipython",
    "version": 3
   },
   "file_extension": ".py",
   "mimetype": "text/x-python",
   "name": "python",
   "nbconvert_exporter": "python",
   "pygments_lexer": "ipython3",
   "version": "3.10.9"
  }
 },
 "nbformat": 4,
 "nbformat_minor": 5
}
